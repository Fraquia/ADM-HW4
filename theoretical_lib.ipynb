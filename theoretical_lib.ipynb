{
 "cells": [
  {
   "cell_type": "markdown",
   "metadata": {},
   "source": [
    "## Exercice 4"
   ]
  },
  {
   "cell_type": "raw",
   "metadata": {},
   "source": [
    "The difficulty in K-means algorithm lies in choosing a number of K clusters that will highlight interesting patterns in the data. This initialization part allows us how to detect approximately how many number of clusters we need regarding the dataset to find the most optimal solution. \n",
    "\n",
    "I chose a multivariant basic and commun dataset : Fisher's Iris,  to play on the parameter K by initializating it with many values. \n",
    "\n",
    "We are going to explore, by testing different values of K, how it will impact the convergence rate of each point by using an indicator of time. "
   ]
  },
  {
   "cell_type": "code",
   "execution_count": 258,
   "metadata": {},
   "outputs": [],
   "source": [
    "#importing libraries\n",
    "import pandas as pd\n",
    "import numpy as np\n",
    "import sklearn.metrics as sm\n",
    "import matplotlib.pyplot as plt\n",
    "from sklearn.cluster import KMeans\n",
    "from sklearn import datasets\n",
    "import time"
   ]
  },
  {
   "cell_type": "code",
   "execution_count": 259,
   "metadata": {},
   "outputs": [],
   "source": [
    "iris = datasets.load_iris()"
   ]
  },
  {
   "cell_type": "code",
   "execution_count": 260,
   "metadata": {},
   "outputs": [],
   "source": [
    "x = pd.DataFrame(iris.data) #Storing data in data frame\n",
    "x.columns=['Sepal_Length','Sepal_width','Petal_Length','Petal_width'] #columns names\n",
    "\n",
    "y = pd.DataFrame(iris.target)\n",
    "y.columns=['Targets']"
   ]
  },
  {
   "cell_type": "code",
   "execution_count": 261,
   "metadata": {},
   "outputs": [
    {
     "name": "stdout",
     "output_type": "stream",
     "text": [
      "[ 7  4  4  4  7  0  4  7  4  4  0  7  4  4  0  0  0  7  0  0  7  7  7  7\n",
      "  7  4  7  7  7  4  4  7  0  0  4  7  7  7  4  7  7  4  4  7  0  4  0  4\n",
      "  0  7 12 12 12  9 12  5 12 13 12  9 13  5  9  5  3 12  5  3  1  9 11  3\n",
      "  1  5  5 12 12 12  5  3  9  9  3 11  5  5 12  1  3  9  9  5  3 13  9  3\n",
      "  3  5 13  3  8 11  6  2  8 14  9  6  2  6  8  2  8 11 11  8  2 10 14  1\n",
      "  8 11 14 11  8  6 11 11  2  6  6 10  2 11  2  6  8  2 11  8  8  8 11  8\n",
      "  8  8  1  2  8 11]\n",
      "4.6534061431884765e-05\n"
     ]
    }
   ],
   "source": [
    "k1 = 3\n",
    "\n",
    "start = time.time() #starting time\n",
    "\n",
    "model1 = KMeans(n_clusters=3) #Cluster K-means\n",
    "model1.fit(x) #adapting the model \n",
    "\n",
    "print(model.labels_)\n",
    "\n",
    "end = time.time() #ending time\n",
    "time1 = (end - start)*10**(-3)\n",
    "print(time1)"
   ]
  },
  {
   "cell_type": "code",
   "execution_count": 262,
   "metadata": {},
   "outputs": [
    {
     "name": "stdout",
     "output_type": "stream",
     "text": [
      "[ 7  4  4  4  7  0  4  7  4  4  0  7  4  4  0  0  0  7  0  0  7  7  7  7\n",
      "  7  4  7  7  7  4  4  7  0  0  4  7  7  7  4  7  7  4  4  7  0  4  0  4\n",
      "  0  7 12 12 12  9 12  5 12 13 12  9 13  5  9  5  3 12  5  3  1  9 11  3\n",
      "  1  5  5 12 12 12  5  3  9  9  3 11  5  5 12  1  3  9  9  5  3 13  9  3\n",
      "  3  5 13  3  8 11  6  2  8 14  9  6  2  6  8  2  8 11 11  8  2 10 14  1\n",
      "  8 11 14 11  8  6 11 11  2  6  6 10  2 11  2  6  8  2 11  8  8  8 11  8\n",
      "  8  8  1  2  8 11]\n",
      "6.207394599914551e-05\n"
     ]
    }
   ],
   "source": [
    "k2 = 7\n",
    "\n",
    "#Cluster K-means\n",
    "start = time.time()\n",
    "\n",
    "model2 = KMeans(n_clusters=7)\n",
    "model2.fit(x) #adapting the model \n",
    "\n",
    "print(model.labels_)\n",
    "\n",
    "end = time.time()\n",
    "time2 = (end - start)*10**(-3)\n",
    "print(time2)"
   ]
  },
  {
   "cell_type": "code",
   "execution_count": 263,
   "metadata": {},
   "outputs": [
    {
     "name": "stdout",
     "output_type": "stream",
     "text": [
      "[ 7  4  4  4  7  0  4  7  4  4  0  7  4  4  0  0  0  7  0  0  7  7  7  7\n",
      "  7  4  7  7  7  4  4  7  0  0  4  7  7  7  4  7  7  4  4  7  0  4  0  4\n",
      "  0  7 12 12 12  9 12  5 12 13 12  9 13  5  9  5  3 12  5  3  1  9 11  3\n",
      "  1  5  5 12 12 12  5  3  9  9  3 11  5  5 12  1  3  9  9  5  3 13  9  3\n",
      "  3  5 13  3  8 11  6  2  8 14  9  6  2  6  8  2  8 11 11  8  2 10 14  1\n",
      "  8 11 14 11  8  6 11 11  2  6  6 10  2 11  2  6  8  2 11  8  8  8 11  8\n",
      "  8  8  1  2  8 11]\n",
      "7.849311828613281e-05\n"
     ]
    }
   ],
   "source": [
    "k3 = 10\n",
    "\n",
    "#Cluster K-means\n",
    "start = time.time()\n",
    "\n",
    "model3 = KMeans(n_clusters=10)\n",
    "model3.fit(x) #adapting the model \n",
    "\n",
    "print(model.labels_)\n",
    "\n",
    "end = time.time()\n",
    "time3 = (end - start)*10**(-3)\n",
    "print(time3)"
   ]
  },
  {
   "cell_type": "code",
   "execution_count": 264,
   "metadata": {},
   "outputs": [
    {
     "name": "stdout",
     "output_type": "stream",
     "text": [
      "[ 7  4  4  4  7  0  4  7  4  4  0  7  4  4  0  0  0  7  0  0  7  7  7  7\n",
      "  7  4  7  7  7  4  4  7  0  0  4  7  7  7  4  7  7  4  4  7  0  4  0  4\n",
      "  0  7 12 12 12  9 12  5 12 13 12  9 13  5  9  5  3 12  5  3  1  9 11  3\n",
      "  1  5  5 12 12 12  5  3  9  9  3 11  5  5 12  1  3  9  9  5  3 13  9  3\n",
      "  3  5 13  3  8 11  6  2  8 14  9  6  2  6  8  2  8 11 11  8  2 10 14  1\n",
      "  8 11 14 11  8  6 11 11  2  6  6 10  2 11  2  6  8  2 11  8  8  8 11  8\n",
      "  8  8  1  2  8 11]\n",
      "9.01792049407959e-05\n"
     ]
    }
   ],
   "source": [
    "k4 = 15\n",
    "\n",
    "#Cluster K-means\n",
    "start = time.time()\n",
    "\n",
    "model4 = KMeans(n_clusters=15)\n",
    "model4.fit(x) #adapting the model \n",
    "\n",
    "print(model.labels_)\n",
    "\n",
    "end = time.time()\n",
    "time4 = (end - start)*10**(-3)\n",
    "print(time4)"
   ]
  },
  {
   "cell_type": "code",
   "execution_count": 265,
   "metadata": {},
   "outputs": [
    {
     "name": "stdout",
     "output_type": "stream",
     "text": [
      "[ 7  4  4  4  7  0  4  7  4  4  0  7  4  4  0  0  0  7  0  0  7  7  7  7\n",
      "  7  4  7  7  7  4  4  7  0  0  4  7  7  7  4  7  7  4  4  7  0  4  0  4\n",
      "  0  7 12 12 12  9 12  5 12 13 12  9 13  5  9  5  3 12  5  3  1  9 11  3\n",
      "  1  5  5 12 12 12  5  3  9  9  3 11  5  5 12  1  3  9  9  5  3 13  9  3\n",
      "  3  5 13  3  8 11  6  2  8 14  9  6  2  6  8  2  8 11 11  8  2 10 14  1\n",
      "  8 11 14 11  8  6 11 11  2  6  6 10  2 11  2  6  8  2 11  8  8  8 11  8\n",
      "  8  8  1  2  8 11]\n",
      "0.0001197960376739502\n"
     ]
    }
   ],
   "source": [
    "k5 = 20\n",
    "\n",
    "#Cluster K-means\n",
    "start = time.time()\n",
    "\n",
    "model5 = KMeans(n_clusters=20)\n",
    "model5.fit(x) #adapting the model \n",
    "\n",
    "print(model.labels_)\n",
    "\n",
    "end = time.time()\n",
    "time5 = (end - start)*10**(-3)\n",
    "print(time5)"
   ]
  },
  {
   "cell_type": "code",
   "execution_count": 266,
   "metadata": {},
   "outputs": [
    {
     "name": "stdout",
     "output_type": "stream",
     "text": [
      "[ 7  4  4  4  7  0  4  7  4  4  0  7  4  4  0  0  0  7  0  0  7  7  7  7\n",
      "  7  4  7  7  7  4  4  7  0  0  4  7  7  7  4  7  7  4  4  7  0  4  0  4\n",
      "  0  7 12 12 12  9 12  5 12 13 12  9 13  5  9  5  3 12  5  3  1  9 11  3\n",
      "  1  5  5 12 12 12  5  3  9  9  3 11  5  5 12  1  3  9  9  5  3 13  9  3\n",
      "  3  5 13  3  8 11  6  2  8 14  9  6  2  6  8  2  8 11 11  8  2 10 14  1\n",
      "  8 11 14 11  8  6 11 11  2  6  6 10  2 11  2  6  8  2 11  8  8  8 11  8\n",
      "  8  8  1  2  8 11]\n",
      "0.00014905405044555664\n"
     ]
    }
   ],
   "source": [
    "k6 = 25\n",
    "\n",
    "#Cluster K-means\n",
    "start = time.time()\n",
    "\n",
    "model6 = KMeans(n_clusters=25)\n",
    "model6.fit(x) #adapting the model \n",
    "\n",
    "print(model.labels_)\n",
    "\n",
    "end = time.time()\n",
    "time6 = (end - start)*10**(-3)\n",
    "print(time6)"
   ]
  },
  {
   "cell_type": "code",
   "execution_count": 267,
   "metadata": {},
   "outputs": [],
   "source": [
    "k_list = [k1,k2,k3,k4,k5,k6]\n",
    "time_list = [time1,time2,time3,time4,time5,time6]"
   ]
  },
  {
   "cell_type": "code",
   "execution_count": 268,
   "metadata": {},
   "outputs": [
    {
     "data": {
      "text/plain": [
       "[3, 7, 10, 15, 20, 25]"
      ]
     },
     "execution_count": 268,
     "metadata": {},
     "output_type": "execute_result"
    }
   ],
   "source": [
    "k_list"
   ]
  },
  {
   "cell_type": "code",
   "execution_count": 269,
   "metadata": {},
   "outputs": [
    {
     "data": {
      "text/plain": [
       "[4.6534061431884765e-05,\n",
       " 6.207394599914551e-05,\n",
       " 7.849311828613281e-05,\n",
       " 9.01792049407959e-05,\n",
       " 0.0001197960376739502,\n",
       " 0.00014905405044555664]"
      ]
     },
     "execution_count": 269,
     "metadata": {},
     "output_type": "execute_result"
    }
   ],
   "source": [
    "time_list"
   ]
  },
  {
   "cell_type": "code",
   "execution_count": 270,
   "metadata": {},
   "outputs": [],
   "source": [
    "import matplotlib.pyplot as plt\n",
    "import seaborn as sns\n",
    "sns.set()"
   ]
  },
  {
   "cell_type": "code",
   "execution_count": 271,
   "metadata": {},
   "outputs": [
    {
     "data": {
      "text/plain": [
       "(1e-05, 0.001)"
      ]
     },
     "execution_count": 271,
     "metadata": {},
     "output_type": "execute_result"
    },
    {
     "data": {
      "image/png": "[encoded data removed]",
      "text/plain": [
       "<Figure size 432x288 with 1 Axes>"
      ]
     },
     "metadata": {},
     "output_type": "display_data"
    }
   ],
   "source": [
    "plt.scatter(k_list,time_list)\n",
    "plt.ylim(0.00001,0.001)"
   ]
  },
  {
   "cell_type": "markdown",
   "metadata": {},
   "source": [
    "##### Visualisation with the model1 : k = 3"
   ]
  },
  {
   "cell_type": "code",
   "execution_count": 272,
   "metadata": {},
   "outputs": [
    {
     "data": {
      "text/plain": [
       "<matplotlib.collections.PathCollection at 0x1a21539f60>"
      ]
     },
     "execution_count": 272,
     "metadata": {},
     "output_type": "execute_result"
    },
    {
     "data": {
      "image/png": "[encoded data removed]",
      "text/plain": [
       "<Figure size 432x288 with 1 Axes>"
      ]
     },
     "metadata": {},
     "output_type": "display_data"
    }
   ],
   "source": [
    "plt.scatter(x.Petal_Length, x. Petal_width) #dataset before clustering"
   ]
  },
  {
   "cell_type": "code",
   "execution_count": 276,
   "metadata": {},
   "outputs": [
    {
     "data": {
      "text/plain": [
       "<matplotlib.collections.PathCollection at 0x1a2208ec50>"
      ]
     },
     "execution_count": 276,
     "metadata": {},
     "output_type": "execute_result"
    },
    {
     "data": {
      "image/png": "[encoded data removed]",
      "text/plain": [
       "<Figure size 432x288 with 1 Axes>"
      ]
     },
     "metadata": {},
     "output_type": "display_data"
    }
   ],
   "source": [
    "colormap=np.array(['Red','green','blue'])  #dataset after clustering\n",
    "plt.scatter(x.Petal_Length, x.Petal_width,c=colormap[y.Targets],s=40)\n",
    "plt.scatter(x.Petal_Length, x.Petal_width,c=colormap[model1.labels_],s=40)"
   ]
  },
  {
   "cell_type": "raw",
   "metadata": {},
   "source": [
    "The bigger K is, the longer it will take us. On a more consentent dataset (with more data), the cost of our algorithm will explode because it will take far too long to be computed.\n",
    "Here we can see 3 major groups with naked eye on the graph. So if we choose k=6, we will have to separate the data into 6 groups, which is not very relevant, so it will not be optimal and will take longer than necessary to calculate. "
   ]
  },
  {
   "cell_type": "markdown",
   "metadata": {},
   "source": [
    "#### Conclusion"
   ]
  },
  {
   "cell_type": "raw",
   "metadata": {},
   "source": [
    "Even with a really small dataset, we notice that more the clusters are, more the time is and more the convergence rate is.\n",
    "As said earlier, by choosing a time indicator, this example shows that the convergence rate will probably explode with a more consistent dataset if we choose a wrong initialization. The longer the time is, the less optimal the clustering is. \n",
    "This example shows the problem of datamining to find an optimal K, neither too small nor too large. Today it is difficult to find it precisely so it requires a lot of tests guided by chance or intuition!"
   ]
  }
 ],
 "metadata": {
  "kernelspec": {
   "display_name": "Python 3",
   "language": "python",
   "name": "python3"
  },
  "language_info": {
   "codemirror_mode": {
    "name": "ipython",
    "version": 3
   },
   "file_extension": ".py",
   "mimetype": "text/x-python",
   "name": "python",
   "nbconvert_exporter": "python",
   "pygments_lexer": "ipython3",
   "version": "3.7.3"
  }
 },
 "nbformat": 4,
 "nbformat_minor": 2
}
