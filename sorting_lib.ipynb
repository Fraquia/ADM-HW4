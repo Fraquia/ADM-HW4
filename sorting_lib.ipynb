{
 "cells": [
  {
   "cell_type": "markdown",
   "metadata": {},
   "source": [
    "## Question 1"
   ]
  },
  {
   "cell_type": "code",
   "execution_count": 149,
   "metadata": {},
   "outputs": [],
   "source": [
    "def numbers_sort(nums):\n",
    "    \n",
    "    max_num = max(nums) #getting the max number of the list\n",
    "    n = max_num + 1 #adding 0\n",
    "    occur = [0] * n  #initializing the occurence of each number at 0\n",
    "    \n",
    "    for num in nums: #browsing the numbers of the list\n",
    "        occur[num] += 1 #increasing the occurence by 1 everytime it encounters the number\n",
    "        \n",
    "    sorted_list = []\n",
    "    for num in range(n): #for each number we append it n times to a new list (n being the occurence of the number)\n",
    "        sorted_list += [num] * occur[num]\n",
    "        \n",
    "    return sorted_list"
   ]
  },
  {
   "cell_type": "markdown",
   "metadata": {},
   "source": [
    "#### Test"
   ]
  },
  {
   "cell_type": "code",
   "execution_count": 150,
   "metadata": {},
   "outputs": [
    {
     "data": {
      "text/plain": [
       "[1, 1, 1, 2, 2, 7, 9]"
      ]
     },
     "execution_count": 150,
     "metadata": {},
     "output_type": "execute_result"
    }
   ],
   "source": [
    "numbers_sort([1,2,9,2,7,1,1])"
   ]
  },
  {
   "cell_type": "markdown",
   "metadata": {},
   "source": [
    "## Question 2"
   ]
  },
  {
   "cell_type": "code",
   "execution_count": 168,
   "metadata": {},
   "outputs": [],
   "source": [
    "letters = \"AaBbCcDdEeFfGgHhIiJjKkLlMmNnOoPpQqRrSsTtUuVvWwXxYyZz\" #choosing and creating my order of letters\n",
    "dic1 = dict(enumerate(letters)) #creating my dictionary by affecting a key value to each letter\n",
    "dic = dict((v, k) for k, v in dic1.items()) #inversing my dictionary mapping"
   ]
  },
  {
   "cell_type": "code",
   "execution_count": 169,
   "metadata": {},
   "outputs": [],
   "source": [
    "def max_letter(lst): #creating a function getting the max value of the given list\n",
    "    max_letter = lst[0]\n",
    "    for k in range(len(lst)):\n",
    "        if dic[lst[k]] >= dic[max_letter]:\n",
    "            max_letter = lst[k]\n",
    "    return max_letter"
   ]
  },
  {
   "cell_type": "code",
   "execution_count": 170,
   "metadata": {},
   "outputs": [],
   "source": [
    "def letters_sort(lst):    \n",
    "    a = max_letter(lst) #getting the maximum value of the list\n",
    "    ind_a = letters.index(a) #now getting the index of this one\n",
    "    \n",
    "    letters_list = [] #creating an empty letters list \n",
    "    for i in range(ind_a+1): #browsing \n",
    "        letters_list.append(letters[i]) #storing all letters \n",
    "    \n",
    "    occur = [0] * len(letters_list) #initialization of all letters to 0 such as the number method we used earlier\n",
    "        \n",
    "    for letter in lst:   #browsing the letters of the list\n",
    "        ind = letters_list.index(letter)\n",
    "        occur[ind] += 1 #increasing the occurence by 1 everytime it encounters the letter\n",
    "\n",
    "    sorted_letters_list = []           \n",
    "    for ind in range(len(occur)): #for each letter we append it n times to a new list (n being the occurence of the number)\n",
    "        sorted_letters_list += occur[ind] * [letters_list[ind]]\n",
    "                    \n",
    "            \n",
    "    return sorted_letters_list"
   ]
  },
  {
   "cell_type": "markdown",
   "metadata": {},
   "source": [
    "#### Test "
   ]
  },
  {
   "cell_type": "code",
   "execution_count": 171,
   "metadata": {},
   "outputs": [
    {
     "data": {
      "text/plain": [
       "['A', 'a', 'a', 'C', 'c', 'F', 'k', 'M', 'P', 'P']"
      ]
     },
     "execution_count": 171,
     "metadata": {},
     "output_type": "execute_result"
    }
   ],
   "source": [
    "letters_sort(['a','c','P','k','C','a','A','P','F','M'])"
   ]
  },
  {
   "cell_type": "markdown",
   "metadata": {},
   "source": [
    "## Question 3"
   ]
  },
  {
   "cell_type": "code",
   "execution_count": 177,
   "metadata": {},
   "outputs": [],
   "source": [
    "#Our order of letters change because we use python order in a recursive function\n",
    "#Our function uses the following order : ABCDEFGHIJKLMNOPQRSTUVWXYZabcdefghijklmnopqrstuvwxyz\n",
    "\n",
    "def words_sort(arr):\n",
    "    \n",
    "    if len(arr) < 2: #if there is only one word in our list\n",
    "        return arr\n",
    "    else:\n",
    "        pivot = arr[0] #initialization \n",
    "        less = [i for i in arr[1:] if i <= pivot] #creating a list with the elements inf\n",
    "        more = [i for i in arr[1:] if i > pivot] #creating a list with the elements supp \n",
    "        \n",
    "        return quicksort(less) + [pivot] + quicksort(more) \n",
    "        #he function is reapplied recursively on more and less until it remains only one element"
   ]
  },
  {
   "cell_type": "markdown",
   "metadata": {},
   "source": [
    "#### Test"
   ]
  },
  {
   "cell_type": "code",
   "execution_count": 178,
   "metadata": {},
   "outputs": [
    {
     "data": {
      "text/plain": [
       "['Data',\n",
       " 'Home',\n",
       " 'Ok',\n",
       " 'Python',\n",
       " 'hat',\n",
       " 'jacket',\n",
       " 'name',\n",
       " 'namee',\n",
       " 'python',\n",
       " 'zebre']"
      ]
     },
     "execution_count": 178,
     "metadata": {},
     "output_type": "execute_result"
    }
   ],
   "source": [
    "words_sort(['zebre','hat','Ok','Home','Data','namee','name','Python','jacket','python'])"
   ]
  }
 ],
 "metadata": {
  "kernelspec": {
   "display_name": "Python 3",
   "language": "python",
   "name": "python3"
  },
  "language_info": {
   "codemirror_mode": {
    "name": "ipython",
    "version": 3
   },
   "file_extension": ".py",
   "mimetype": "text/x-python",
   "name": "python",
   "nbconvert_exporter": "python",
   "pygments_lexer": "ipython3",
   "version": "3.7.3"
  }
 },
 "nbformat": 4,
 "nbformat_minor": 2
}
