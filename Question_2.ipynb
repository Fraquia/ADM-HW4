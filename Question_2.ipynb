{
 "cells": [
  {
   "cell_type": "markdown",
   "metadata": {},
   "source": [
    "## Question 1"
   ]
  },
  {
   "cell_type": "code",
   "execution_count": 97,
   "metadata": {},
   "outputs": [],
   "source": [
    "def my_counting_sort(nums): #function\n",
    "    \n",
    "    max_num = max(nums) #getting the max number of the list\n",
    "    n = max_num + 1 #adding 0\n",
    "    occur = [0] * n  #initializing the occurence of each number at 0\n",
    "    \n",
    "    for num in nums: #browsing the numbers of the list\n",
    "        occur[num] += 1 #increasing the occurence by 1 everytime it encounters the number\n",
    "        \n",
    "    sorted_list = []\n",
    "    for num in range(n): #for each number we append it n times to a new list (n being the occurence of the number)\n",
    "        sorted_list += [num] * occur[num]\n",
    "        \n",
    "    return sorted_list"
   ]
  },
  {
   "cell_type": "markdown",
   "metadata": {},
   "source": [
    "#### Test"
   ]
  },
  {
   "cell_type": "code",
   "execution_count": 98,
   "metadata": {},
   "outputs": [
    {
     "data": {
      "text/plain": [
       "[1, 1, 1, 2, 2, 7, 9]"
      ]
     },
     "execution_count": 98,
     "metadata": {},
     "output_type": "execute_result"
    }
   ],
   "source": [
    "my_counting_sort([1,2,9,2,7,1,1])"
   ]
  },
  {
   "cell_type": "markdown",
   "metadata": {},
   "source": [
    "## Question 2"
   ]
  },
  {
   "cell_type": "code",
   "execution_count": 171,
   "metadata": {},
   "outputs": [],
   "source": [
    "import string"
   ]
  },
  {
   "cell_type": "code",
   "execution_count": 172,
   "metadata": {},
   "outputs": [],
   "source": [
    "all_letters = 'AaBbCcDdEeFfGgHhIiJjKkLlMmNnOoPpQqRrSsTtUuVvWwXxYyZz' #creating my order of letters\n",
    "dic = dict(enumerate(all_letters)) #creating my dictionary by affecting a key value to each letter"
   ]
  },
  {
   "cell_type": "code",
   "execution_count": 173,
   "metadata": {},
   "outputs": [
    {
     "data": {
      "text/plain": [
       "{0: 'A',\n",
       " 1: 'a',\n",
       " 2: 'B',\n",
       " 3: 'b',\n",
       " 4: 'C',\n",
       " 5: 'c',\n",
       " 6: 'D',\n",
       " 7: 'd',\n",
       " 8: 'E',\n",
       " 9: 'e',\n",
       " 10: 'F',\n",
       " 11: 'f',\n",
       " 12: 'G',\n",
       " 13: 'g',\n",
       " 14: 'H',\n",
       " 15: 'h',\n",
       " 16: 'I',\n",
       " 17: 'i',\n",
       " 18: 'J',\n",
       " 19: 'j',\n",
       " 20: 'K',\n",
       " 21: 'k',\n",
       " 22: 'L',\n",
       " 23: 'l',\n",
       " 24: 'M',\n",
       " 25: 'm',\n",
       " 26: 'N',\n",
       " 27: 'n',\n",
       " 28: 'O',\n",
       " 29: 'o',\n",
       " 30: 'P',\n",
       " 31: 'p',\n",
       " 32: 'Q',\n",
       " 33: 'q',\n",
       " 34: 'R',\n",
       " 35: 'r',\n",
       " 36: 'S',\n",
       " 37: 's',\n",
       " 38: 'T',\n",
       " 39: 't',\n",
       " 40: 'U',\n",
       " 41: 'u',\n",
       " 42: 'V',\n",
       " 43: 'v',\n",
       " 44: 'W',\n",
       " 45: 'w',\n",
       " 46: 'X',\n",
       " 47: 'x',\n",
       " 48: 'Y',\n",
       " 49: 'y',\n",
       " 50: 'Z',\n",
       " 51: 'z'}"
      ]
     },
     "execution_count": 173,
     "metadata": {},
     "output_type": "execute_result"
    }
   ],
   "source": [
    "dic #dictionnary "
   ]
  },
  {
   "cell_type": "code",
   "execution_count": 174,
   "metadata": {},
   "outputs": [],
   "source": [
    "def max_letter(lst): #creating a function getting the max value of the given list\n",
    "    max_letter = lst[0]\n",
    "    for k in range(len(lst)):\n",
    "        if dic[lst[k]] >= dic[max_letter]:\n",
    "            max_letter = lst[k]\n",
    "    return max_letter"
   ]
  },
  {
   "cell_type": "code",
   "execution_count": 177,
   "metadata": {},
   "outputs": [],
   "source": [
    "def letters_sort(lst):    \n",
    "    a = max_letter(lst) #getting the maximum value of the list\n",
    "    ind_a = letters.index(a) #now getting the index of this one\n",
    "    \n",
    "    letters_list = [] #creating an empty letters list \n",
    "    for i in range(ind_a+1): #browsing \n",
    "        letters_list.append(letters[i]) #storing all letters \n",
    "    \n",
    "    occur = [0] * len(letters_list) #initialization of all letters to 0 such as the number method we used earlier\n",
    "        \n",
    "    for letter in lst:   #browsing the letters of the list\n",
    "        ind = letters_list.index(letter)\n",
    "        occur[ind] += 1 #increasing the occurence by 1 everytime it encounters the letter\n",
    "\n",
    "    sorted_letters_list = []           \n",
    "    for ind in range(len(occur)): #for each letter we append it n times to a new list (n being the occurence of the number)\n",
    "        sorted_letters_list += occur[ind] * [letters_list[ind]]\n",
    "                    \n",
    "            \n",
    "    return sorted_letters_list"
   ]
  },
  {
   "cell_type": "markdown",
   "metadata": {},
   "source": [
    "#### Test "
   ]
  },
  {
   "cell_type": "code",
   "execution_count": null,
   "metadata": {},
   "outputs": [],
   "source": [
    "letters_sort(['a','c','P','k','C','a','A','P','F','M'])"
   ]
  },
  {
   "cell_type": "markdown",
   "metadata": {},
   "source": [
    "## Question 3"
   ]
  },
  {
   "cell_type": "code",
   "execution_count": null,
   "metadata": {},
   "outputs": [],
   "source": []
  }
 ],
 "metadata": {
  "kernelspec": {
   "display_name": "Python 3",
   "language": "python",
   "name": "python3"
  },
  "language_info": {
   "codemirror_mode": {
    "name": "ipython",
    "version": 3
   },
   "file_extension": ".py",
   "mimetype": "text/x-python",
   "name": "python",
   "nbconvert_exporter": "python",
   "pygments_lexer": "ipython3",
   "version": "3.7.3"
  }
 },
 "nbformat": 4,
 "nbformat_minor": 2
}
