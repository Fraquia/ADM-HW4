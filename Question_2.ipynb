{
 "cells": [
  {
   "cell_type": "markdown",
   "metadata": {},
   "source": [
    "## Question 1"
   ]
  },
  {
   "cell_type": "code",
   "execution_count": 97,
   "metadata": {},
   "outputs": [],
   "source": [
    "def my_counting_sort(nums): #function\n",
    "    \n",
    "    max_num = max(nums) #getting the max number of the list\n",
    "    n = max_num + 1 #adding 0\n",
    "    occur = [0] * n  #initializing the occurence of each number at 0\n",
    "    \n",
    "    for num in nums: #browsing the numbers of the list\n",
    "        occur[num] += 1 #increasing the occurence by 1 everytime it encounters the number\n",
    "        \n",
    "    sorted_list = []\n",
    "    for num in range(n): #for each number we append it n times to a new list (n being the occurence of the number)\n",
    "        sorted_list += [num] * occur[num]\n",
    "        \n",
    "    return sorted_list"
   ]
  },
  {
   "cell_type": "markdown",
   "metadata": {},
   "source": [
    "#### Test"
   ]
  },
  {
   "cell_type": "code",
   "execution_count": 98,
   "metadata": {},
   "outputs": [
    {
     "data": {
      "text/plain": [
       "[1, 1, 1, 2, 2, 7, 9]"
      ]
     },
     "execution_count": 98,
     "metadata": {},
     "output_type": "execute_result"
    }
   ],
   "source": [
    "my_counting_sort([1,2,9,2,7,1,1])"
   ]
  },
  {
   "cell_type": "markdown",
   "metadata": {},
   "source": [
    "## Question 2"
   ]
  },
  {
   "cell_type": "code",
   "execution_count": 209,
   "metadata": {},
   "outputs": [],
   "source": [
    "import string\n",
    "\n",
    "upper_letters = list(string.ascii_uppercase)\n",
    "lower_letters = list(string.ascii_lowercase)\n",
    "\n",
    "letters = []\n",
    "for i in range(len(upper_letters)):\n",
    "    letters.append(upper_letters[i])\n",
    "    letters.append(lower_letters[i])\n",
    "\n",
    "dic = dict(zip(letters, list(range(len(letters)))))"
   ]
  },
  {
   "cell_type": "code",
   "execution_count": 210,
   "metadata": {},
   "outputs": [],
   "source": [
    "def max_letter(lst): #creating a function getting the max value of the given list\n",
    "    max_letter = lst[0]\n",
    "    for k in range(len(lst)):\n",
    "        if dic[lst[k]] >= dic[max_letter]:\n",
    "            max_letter = lst[k]\n",
    "    return max_letter"
   ]
  },
  {
   "cell_type": "code",
   "execution_count": 211,
   "metadata": {},
   "outputs": [],
   "source": [
    "def letters_sort(lst):    \n",
    "    a = max_letter(lst) #getting the maximum value of the list\n",
    "    ind_a = letters.index(a) #now getting the index of this one\n",
    "    \n",
    "    letters_list = [] #creating an empty letters list \n",
    "    for i in range(ind_a+1): #browsing \n",
    "        letters_list.append(letters[i]) #storing all letters \n",
    "    \n",
    "    occur = [0] * len(letters_list) #initialization of all letters to 0 such as the number method we used earlier\n",
    "        \n",
    "    for letter in lst:   #browsing the letters of the list\n",
    "        ind = letters_list.index(letter)\n",
    "        occur[ind] += 1 #increasing the occurence by 1 everytime it encounters the letter\n",
    "\n",
    "    sorted_letters_list = []           \n",
    "    for ind in range(len(occur)): #for each letter we append it n times to a new list (n being the occurence of the number)\n",
    "        sorted_letters_list += occur[ind] * [letters_list[ind]]\n",
    "                    \n",
    "            \n",
    "    return sorted_letters_list"
   ]
  },
  {
   "cell_type": "markdown",
   "metadata": {},
   "source": [
    "#### Test "
   ]
  },
  {
   "cell_type": "code",
   "execution_count": 212,
   "metadata": {},
   "outputs": [
    {
     "data": {
      "text/plain": [
       "['A', 'a', 'a', 'C', 'c', 'F', 'k', 'M', 'P', 'P']"
      ]
     },
     "execution_count": 212,
     "metadata": {},
     "output_type": "execute_result"
    }
   ],
   "source": [
    "letters_sort(['a','c','P','k','C','a','A','P','F','M'])"
   ]
  },
  {
   "cell_type": "markdown",
   "metadata": {},
   "source": [
    "## Question 3"
   ]
  },
  {
   "cell_type": "code",
   "execution_count": null,
   "metadata": {},
   "outputs": [],
   "source": []
  }
 ],
 "metadata": {
  "kernelspec": {
   "display_name": "Python 3",
   "language": "python",
   "name": "python3"
  },
  "language_info": {
   "codemirror_mode": {
    "name": "ipython",
    "version": 3
   },
   "file_extension": ".py",
   "mimetype": "text/x-python",
   "name": "python",
   "nbconvert_exporter": "python",
   "pygments_lexer": "ipython3",
   "version": "3.7.3"
  }
 },
 "nbformat": 4,
 "nbformat_minor": 2
}
