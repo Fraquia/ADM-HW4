{
 "cells": [
  {
   "cell_type": "markdown",
   "metadata": {},
   "source": [
    "# HOMEWORK 1 "
   ]
  },
  {
   "cell_type": "markdown",
   "metadata": {},
   "source": [
    "## Question 1\n"
   ]
  },
  {
   "cell_type": "markdown",
   "metadata": {},
   "source": [
    "For the first question we took help from Aris notes. In the notes it says, we can use following hash function method:\n",
    "\n",
    "\\begin{equation*}\n",
    "\\left( \\sum_{k=1}^n a_k b_k \\right) \\mod prime number\n",
    "\\end{equation*}"
   ]
  },
  {
   "cell_type": "markdown",
   "metadata": {},
   "source": [
    "Here a's are the coefficient of the each passw character. This coefficients are choosen uniformly between 0 to prime numbers. For this we write following function:\n"
   ]
  },
  {
   "cell_type": "code",
   "execution_count": null,
   "metadata": {},
   "outputs": [],
   "source": [
    "def hash_function_coeff(number,length):\n",
    "    hash_coeff=np.array([[random.randint(0,length-1) for i in range(20)]], dtype=object)\n",
    "    for i in range(number-1):\n",
    "        hash_coeff=np.concatenate((hash_coeff,np.array([[random.randint(0,n-1) for i in range(20)]])))\n",
    "    return hash_coeff"
   ]
  },
  {
   "cell_type": "markdown",
   "metadata": {},
   "source": [
    "Then for given false positive error rate,(we choose it as 0.01 for computational simplicity), we calculate the length of the bloomfilter and numbers hash function for his specific false positive error rate.\n",
    "As a bloom filter length we found 958505837 . But for modulo function we have to have a prime number thats why we choose the closest prime number which is 958505839. \n",
    "We also check whether our hash functions generates uniformly distributed hash values along our bloom filter and result is below:\n"
   ]
  },
  {
   "cell_type": "markdown",
   "metadata": {},
   "source": [
    "<img src=\"index.png\">"
   ]
  },
  {
   "cell_type": "markdown",
   "metadata": {},
   "source": [
    "Whole code for the task is below:\n"
   ]
  },
  {
   "cell_type": "code",
   "execution_count": null,
   "metadata": {},
   "outputs": [],
   "source": [
    "import numpy as np\n",
    "import random\n",
    "import math\n",
    "import time\n",
    "import pickle\n",
    "with open(\"../homeworks/ADM-HW4/passwords1.txt\",\"r\") as f:\n",
    "    text=f.read()\n",
    "text=text.split(\"\\n\")\n",
    "text = text[:-1]\n",
    "random.seed(1024)\n",
    "\n",
    "# hash_function_coeff function create specified number of hash function and\n",
    "# choose coefficient of our hash function between range 0:closest prime number-1\n",
    "def hash_function_coeff(number,length):\n",
    "    hash_coeff=np.array([[random.randint(0,length-1) for i in range(20)]], dtype=object)\n",
    "    for i in range(number-1):\n",
    "        hash_coeff=np.concatenate((hash_coeff,np.array([[random.randint(0,n-1) for i in range(20)]])))\n",
    "    return hash_coeff\n",
    "##hashing function calculates hash values for each password and change the bloomfilter indexes into 1\n",
    "def hashing(coeffs,text):\n",
    "    for idx,passw in enumerate(text):\n",
    "        ord_of_words=[]\n",
    "        for alph in passw:\n",
    "            ord_of_words.append(ord(alph))\n",
    "        ord_of_words=np.array(ord_of_words, dtype=object)\n",
    "        for coeff in coeffs:\n",
    "            try:\n",
    "                result=np.remainder(np.sum(coeff*ord_of_words),closeset_prime)\n",
    "                bloom_filter[result]=1\n",
    "            except Exception as e1:\n",
    "                print(e1)\n",
    "                print(idx)\n",
    "        if idx % 1000000 == 0:\n",
    "            print(\"{} of them handled and saved.Keep going\".format(idx))\n",
    "            if idx % 10000000 == 0:\n",
    "                np.save(\"bloom_filter.npy\", bloom_filter)\n",
    "    np.save(\"bloom_filter.npy\", bloom_filter)\n",
    "## this control_hash function check whether an element inside of a bloom filter or not and return 2 lists of\n",
    "##  surely not inside items and not sure but probably inside the list\n",
    "def control_hash(coeffs,pass2,bloom_filter):\n",
    "    not_inside=[]\n",
    "    question_possitive=[]\n",
    "    for idx,passw in enumerate(pass2):\n",
    "        if idx % 10000 == 0:\n",
    "            print(len(not_inside))\n",
    "        ord_of_words=[]\n",
    "        for alph in passw:\n",
    "            ord_of_words.append(ord(alph))\n",
    "        ord_of_words = np.array(ord_of_words, dtype=object)\n",
    "        flag=1\n",
    "        for coeff in coeffs:\n",
    "            result=np.remainder(np.sum(coeff*ord_of_words),closeset_prime)\n",
    "            if not bloom_filter[result]:\n",
    "                not_inside.append(idx)\n",
    "                flag = 0\n",
    "                break\n",
    "        if flag:\n",
    "            question_possitive.append(idx)\n",
    "\n",
    "    return(not_inside,question_possitive)\n",
    "\n",
    "#number of element inserted\n",
    "n=len(text)\n",
    "print(n)\n",
    "# p is the false possitive rate\n",
    "p=0.01\n",
    "# number of filter that bloom need\n",
    "m=-(n*np.log(p))/np.square(np.log(2))\n",
    "closeset_prime=958505839\n",
    "## k number of hash function\n",
    "k=(closeset_prime/n)*np.log(2)\n",
    "print(m)\n",
    "print(closeset_prime)\n",
    "bloom_filter=np.zeros(closeset_prime,dtype=np.int)\n",
    "coeff=hash_function_coeff(math.ceil(k),closeset_prime)\n",
    "\n",
    "start=time.time()\n",
    "hashing(coeff,text)\n",
    "with open(\"../homeworks/ADM-HW4/passwords2.txt\", \"r\") as f:\n",
    "    text=f.read()\n",
    "text=text.split(\"\\n\")\n",
    "text = text[:-1]\n",
    "print(len(text))\n",
    "\n",
    "print(\"It starts controll other list wait\")\n",
    "results=control_hash(coeff,text,bloom_filter)\n",
    "end=time.time()\n",
    "\n",
    "print(\"Bloom filter length\",closeset_prime)\n",
    "print(\"number of hash function\",math.ceil(k))\n",
    "print(\"Number of elemnts\",n)\n",
    "print(\"Probability of false positive\",p)\n",
    "print('Number of duplicates detected: ', len(results[1]))\n",
    "print('Notinside ', len(results[0]))\n",
    "print(end-start)\n",
    "with open('parrot.pkl', 'wb') as f:\n",
    "    pickle.dump(results, f)\n"
   ]
  },
  {
   "cell_type": "markdown",
   "metadata": {},
   "source": [
    "Result of out codes is as shown below:\n"
   ]
  },
  {
   "cell_type": "markdown",
   "metadata": {},
   "source": [
    "<img src=\"Picture1.png\">"
   ]
  },
  {
   "cell_type": "markdown",
   "metadata": {},
   "source": [
    "Out of 39000000 password, 24748554 of them for surely not in the passwd1.txt. But 14251446 of them labeled as included in password1.txt but because of the collision probability, not all of them inside passwd1.txt.(What we expect is nearly 145.000 of them not inside passwd1.txt). Our codes done every steps in 2 hours 30 minutes which we believe it is  a good score."
   ]
  }
 ],
 "metadata": {
  "kernelspec": {
   "display_name": "Python 3",
   "language": "python",
   "name": "python3"
  },
  "language_info": {
   "codemirror_mode": {
    "name": "ipython",
    "version": 3
   },
   "file_extension": ".py",
   "mimetype": "text/x-python",
   "name": "python",
   "nbconvert_exporter": "python",
   "pygments_lexer": "ipython3",
   "version": "3.7.3"
  }
 },
 "nbformat": 4,
 "nbformat_minor": 2
}
